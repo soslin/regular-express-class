{
 "cells": [
  {
   "cell_type": "code",
   "execution_count": 1,
   "metadata": {},
   "outputs": [],
   "source": [
    "import re\n",
    "import time"
   ]
  },
  {
   "cell_type": "code",
   "execution_count": 3,
   "metadata": {},
   "outputs": [
    {
     "name": "stdout",
     "output_type": "stream",
     "text": [
      "Fri Dec 13 16:56:11 2019\n"
     ]
    }
   ],
   "source": [
    "print(time.ctime())"
   ]
  },
  {
   "cell_type": "code",
   "execution_count": 4,
   "metadata": {},
   "outputs": [
    {
     "name": "stdout",
     "output_type": "stream",
     "text": [
      "hello current time is: <built-in function ctime>\n"
     ]
    }
   ],
   "source": [
    "print('hello current time is: {0}'.format(time.ctime))"
   ]
  },
  {
   "cell_type": "code",
   "execution_count": 5,
   "metadata": {},
   "outputs": [
    {
     "name": "stdout",
     "output_type": "stream",
     "text": [
      "a\tb\n",
      "a\\tb\n"
     ]
    }
   ],
   "source": [
    "s = 'a\\tb' # everything in quotation marks is a string that will not be modified when printed\n",
    "sr = r'a\\tb' #r(raw) before quotation indicates that string is a regular expression that will be run when printed\n",
    "print(s)\n",
    "print(sr)"
   ]
  },
  {
   "cell_type": "markdown",
   "metadata": {},
   "source": [
    "### Match: string must follow the regex pattern exactly"
   ]
  },
  {
   "cell_type": "code",
   "execution_count": 12,
   "metadata": {},
   "outputs": [],
   "source": [
    "def validation_example_one():\n",
    "    pattern = r'\\d+' #verify if text is composed of one or more digits\n",
    "    \n",
    "    text = '1234' #will be a successful match\n",
    "    match = re.match(pattern, text)\n",
    "    \n",
    "    print('Pattern {0}'.format(pattern)) #will print the pattern to be tested\n",
    "    \n",
    "    if match:\n",
    "        print('Match \\t Text: {0} \\t Index: {1} \\t Length: {2}'.format(text, match.start(), len(match.group(0))))\n",
    "    else:\n",
    "        print ('No Match \\t Text: {0}'.format(text))\n",
    "        \n",
    "    # no match\n",
    "    text =  \"ABCD1234\"\n",
    "    match = re.match(pattern, text)\n",
    "    \n",
    "    if match:\n",
    "        print ('Match \\t Text: {0} \\t Index: {1} \\t Length: {2}'.format(\n",
    "                text, match.start(),len(match.group(0))))\n",
    "    else:\n",
    "        print ('No Match \\t Text: {0}'.format(text))"
   ]
  },
  {
   "cell_type": "code",
   "execution_count": 13,
   "metadata": {},
   "outputs": [
    {
     "name": "stdout",
     "output_type": "stream",
     "text": [
      "Pattern \\d+\n",
      "Match \t Text: 1234 \t Index: 0 \t Length: 4\n",
      "No Match \t Text: ABCD1234\n"
     ]
    }
   ],
   "source": [
    "validation_example_one()"
   ]
  },
  {
   "cell_type": "markdown",
   "metadata": {},
   "source": [
    "### Search: regex pattern must be found somewhere in the string"
   ]
  },
  {
   "cell_type": "code",
   "execution_count": 14,
   "metadata": {},
   "outputs": [],
   "source": [
    "def validation_example_two():\n",
    "    pattern = r'\\d+' #verify if text is composed of one or more digits\n",
    "    \n",
    "    text = '1234' #will be a successful search\n",
    "    match = re.search(pattern, text)\n",
    "    \n",
    "    print('Pattern {0}'.format(pattern)) #will print the pattern to be tested\n",
    "    \n",
    "    if match:\n",
    "        print('Match \\t Text: {0} \\t Index: {1} \\t Length: {2}'.format(text, match.start(), len(match.group(0))))\n",
    "    else:\n",
    "        print ('No Match \\t Text: {0}'.format(text))\n",
    "    \n",
    "    # successful search\n",
    "    text = \"ABCD1234\"\n",
    "    match = re.search(pattern, text)\n",
    "    \n",
    "    if match:\n",
    "        print ('Match \\t Text: {0} \\t Index: {1} \\t Length: {2}'.format(\n",
    "                text, match.start(),len(match.group(0))))\n",
    "    else:\n",
    "        print ('No Match \\t Text: {0}'.format(text))\n",
    "    \n",
    "    \n",
    "    # no match\n",
    "    text =  \"Hello World\"\n",
    "    match = re.match(pattern, text)\n",
    "    \n",
    "    if match:\n",
    "        print ('Match \\t Text: {0} \\t Index: {1} \\t Length: {2}'.format(\n",
    "                text, match.start(),len(match.group(0))))\n",
    "    else:\n",
    "        print ('No Match \\t Text: {0}'.format(text))"
   ]
  },
  {
   "cell_type": "code",
   "execution_count": 15,
   "metadata": {},
   "outputs": [
    {
     "name": "stdout",
     "output_type": "stream",
     "text": [
      "Pattern \\d+\n",
      "Match \t Text: 1234 \t Index: 0 \t Length: 4\n",
      "Match \t Text: ABCD1234 \t Index: 4 \t Length: 4\n",
      "No Match \t Text: Hello World\n"
     ]
    }
   ],
   "source": [
    "validation_example_two()"
   ]
  },
  {
   "cell_type": "markdown",
   "metadata": {},
   "source": [
    "### verify string is only made up of digits"
   ]
  },
  {
   "cell_type": "code",
   "execution_count": 19,
   "metadata": {},
   "outputs": [],
   "source": [
    "def validation_example_three ():\n",
    "    # Purpose: Verify if the given text is made up of digits\n",
    "    pattern = r\"^\\d+$\"\n",
    "    positiveTest = [\"123456\", \"456\", \"321082\", \"0820102\"]\n",
    "    negativeTest = [\"ABCD\", \"A1234\", \"1234AB\", \"  123\", \"321  \", \"  111   \", \"123 4567\", \"123\\n456\"]\n",
    "\n",
    "    print ('Pattern {0}'.format(pattern))\n",
    "    \n",
    "    for text in positiveTest:\n",
    "        match = re.search(pattern, text)    \n",
    "        if match:\n",
    "            print ('***Match. Text: {0} Index: {1} Length: {2}'.format(\n",
    "                    text, match.start(),len(match.group(0))))\n",
    "        else:\n",
    "            print ('***No Match. Text {0}'.format(text))\n",
    "            raise ValueError('Positive Test. Expected successful match but failed {0}'.format(text))\n",
    "        \n",
    "        \n",
    "    for text in negativeTest:\n",
    "        match = re.search(pattern, text)\n",
    "        if match:\n",
    "            print ('***Match. Text: {0} Index: {1} Length: {2}'.format(\n",
    "                    text, match.start(),len(match.group(0))))\n",
    "            raise ValueError('Negative Test. Expected a failed match but succeeded. {0}'.format(text))\n",
    "        else:\n",
    "            print ('***No Match. Text {0}'.format(text))\n",
    "        "
   ]
  },
  {
   "cell_type": "code",
   "execution_count": 20,
   "metadata": {},
   "outputs": [
    {
     "name": "stdout",
     "output_type": "stream",
     "text": [
      "Pattern ^\\d+$\n",
      "***Match. Text: 123456 Index: 0 Length: 6\n",
      "***Match. Text: 456 Index: 0 Length: 3\n",
      "***Match. Text: 321082 Index: 0 Length: 6\n",
      "***Match. Text: 0820102 Index: 0 Length: 7\n",
      "***No Match. Text ABCD\n",
      "***No Match. Text A1234\n",
      "***No Match. Text 1234AB\n",
      "***No Match. Text   123\n",
      "***No Match. Text 321  \n",
      "***No Match. Text   111   \n",
      "***No Match. Text 123 4567\n",
      "***No Match. Text 123\n",
      "456\n"
     ]
    }
   ],
   "source": [
    "validation_example_three()"
   ]
  },
  {
   "cell_type": "markdown",
   "metadata": {},
   "source": [
    "### Findall"
   ]
  },
  {
   "cell_type": "code",
   "execution_count": 24,
   "metadata": {},
   "outputs": [],
   "source": [
    "def find_all_example():\n",
    "    pattern = r'\\b\\d{5}\\b' #string begins and ends with numbers, string is all numbers and is exactly 5 digits\n",
    "    text = \"NY Zip Codes are 10001, 10002, 10003, 10004, 10005\"\n",
    "    \n",
    "    print (f'Pattern {pattern}')\n",
    "    # successful match\n",
    "    match = re.findall(pattern, text)\n",
    "    \n",
    "    print(match)"
   ]
  },
  {
   "cell_type": "code",
   "execution_count": 25,
   "metadata": {},
   "outputs": [
    {
     "name": "stdout",
     "output_type": "stream",
     "text": [
      "Pattern \\b\\d{5}\\b\n",
      "['10001', '10002', '10003', '10004', '10005']\n"
     ]
    }
   ],
   "source": [
    "find_all_example()"
   ]
  },
  {
   "cell_type": "markdown",
   "metadata": {},
   "source": [
    "### finditer"
   ]
  },
  {
   "cell_type": "code",
   "execution_count": 28,
   "metadata": {},
   "outputs": [],
   "source": [
    "def find_iter_example():\n",
    "    pattern = r'\\b\\d{5}\\b'\n",
    "    text = \"NY Postal Codes are 10001, 10002, 10003, 10004\"\n",
    "            \n",
    "    print ('Pattern {0}'.format(pattern))\n",
    "    print ('Text {0}'.format(text))\n",
    "    # successful match\n",
    "    match_iter = re.finditer(pattern, text)\n",
    "    for match in match_iter:\n",
    "        print ('***Match. Text: {0} Index: {1} Length: {2}'.format(\n",
    "                match.group(0), match.start(),len(match.group(0))))"
   ]
  },
  {
   "cell_type": "code",
   "execution_count": 29,
   "metadata": {},
   "outputs": [
    {
     "name": "stdout",
     "output_type": "stream",
     "text": [
      "Pattern \\b\\d{5}\\b\n",
      "Text NY Postal Codes are 10001, 10002, 10003, 10004\n",
      "***Match. Text: 10001 Index: 20 Length: 5\n",
      "***Match. Text: 10002 Index: 27 Length: 5\n",
      "***Match. Text: 10003 Index: 34 Length: 5\n",
      "***Match. Text: 10004 Index: 41 Length: 5\n"
     ]
    }
   ],
   "source": [
    "find_iter_example()"
   ]
  },
  {
   "cell_type": "markdown",
   "metadata": {},
   "source": [
    "### group"
   ]
  },
  {
   "cell_type": "code",
   "execution_count": 30,
   "metadata": {},
   "outputs": [],
   "source": [
    "def group_by_name_example():\n",
    "    pattern = r'(?P<year>\\d{4})(?P<month>\\d{2})(?P<day>\\d{2})(?P<hour>\\d{2})?'\n",
    "    text = 'Timestamp=20160502'\n",
    "    \n",
    "    print ('Pattern {0}'.format(pattern))\n",
    "    print ('Text {0}'.format(text))\n",
    "    # successful match)\n",
    "    match_iter = re.finditer(pattern,text)\n",
    "    \n",
    "    for match in match_iter:\n",
    "        print ('Match. Text: {0} Index: {1} Length: {2}'.format(\n",
    "                match.group(0), match.start(),len(match.group(0))))\n",
    "        print ('Access group by name')\n",
    "        print ('  Year:  {0}'.format(match.group('year')))\n",
    "        print ('  Month: {0}'.format(match.group('month')))\n",
    "        print ('  Day:   {0}'.format(match.group('day')))    \n",
    "        print ('  Hour:  {0}'.format(match.group('hour')))          \n",
    "        print ('Access all named groups as a dictionary')\n",
    "        print ('   {0}'.format(match.groupdict()))"
   ]
  },
  {
   "cell_type": "code",
   "execution_count": 31,
   "metadata": {},
   "outputs": [
    {
     "name": "stdout",
     "output_type": "stream",
     "text": [
      "Pattern (?P<year>\\d{4})(?P<month>\\d{2})(?P<day>\\d{2})(?P<hour>\\d{2})?\n",
      "Text Timestamp=20160502\n",
      "Match. Text: 20160502 Index: 10 Length: 8\n",
      "Access group by name\n",
      "  Year:  2016\n",
      "  Month: 05\n",
      "  Day:   02\n",
      "  Hour:  None\n",
      "Access all named groups as a dictionary\n",
      "   {'year': '2016', 'month': '05', 'day': '02', 'hour': None}\n"
     ]
    }
   ],
   "source": [
    "group_by_name_example()"
   ]
  },
  {
   "cell_type": "code",
   "execution_count": null,
   "metadata": {},
   "outputs": [],
   "source": []
  }
 ],
 "metadata": {
  "kernelspec": {
   "display_name": "Python 3",
   "language": "python",
   "name": "python3"
  },
  "language_info": {
   "codemirror_mode": {
    "name": "ipython",
    "version": 3
   },
   "file_extension": ".py",
   "mimetype": "text/x-python",
   "name": "python",
   "nbconvert_exporter": "python",
   "pygments_lexer": "ipython3",
   "version": "3.7.3"
  }
 },
 "nbformat": 4,
 "nbformat_minor": 2
}
